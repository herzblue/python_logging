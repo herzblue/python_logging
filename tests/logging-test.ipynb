{
 "cells": [
  {
   "cell_type": "markdown",
   "metadata": {},
   "source": [
    "| Level    | Value | When to use                                                                 |\n",
    "|----------|-------|-----------------------------------------------------------------------------|\n",
    "| DEBUG    | 10    | (주로 문제 해결을 할 때 필요한) 자세한 정보.                                 |\n",
    "| INFO     | 20    | 작업이 정상적으로 작동하고 있다는 확인 메시지.                              |\n",
    "| WARNING  | 30    | 예상하지 못한 일이 발생하거나, 발생 가능한 문제점을 명시. (e.g. ‘disk space low’) 작업은 정상적으로 진행. |\n",
    "| ERROR    | 40    | 프로그램이 함수를 실행하지 못 할 정도의 심각한 문제.                        |\n",
    "| CRITICAL | 50    | 프로그램이 동작할 수 없을 정도의 심각한 문제.                               |\n",
    "\n"
   ]
  },
  {
   "cell_type": "markdown",
   "metadata": {},
   "source": [
    "| 상황                                               | 방법                                                                                   |\n",
    "|----------------------------------------------------|----------------------------------------------------------------------------------------|\n",
    "| 일반적인 console 출력                              | `print()`                                                                              |\n",
    "| 프로그램의 실행 중 발생하는 정상적인 이벤트 알림   | `logging.info()`                                                                       |\n",
    "| (진단 등을 위한) 자세한 수준의 로그인 경우에는     | `logging.debug()`                                                                      |\n",
    "| 런타임 중 발생한 이벤트와 관련하여 경고            | 사용자가 프로그램을 수정해서 문제를 해결할 수 있는 경우 `warnings.warn()`              |\n",
    "| 사용자가 처리할 수 있는 문제가 아닌 경우           | `logging.warning()`                                                                    |\n",
    "| 런타임 중 발생한 이벤트와 관련한 에러              | 예외 처리 (`raise Exception`)                                                          |\n",
    "| 발생한 예외를 suppress하고 raise 하지 않은 경우    | (e.g. long-running 서버 프로세스에서 에러 발생 시) `logging.error()`, `logging.exception()`, `logging.critical()` |"
   ]
  },
  {
   "cell_type": "code",
   "execution_count": 5,
   "metadata": {},
   "outputs": [
    {
     "name": "stderr",
     "output_type": "stream",
     "text": [
      "WARNING:root:This is a warning message\n",
      "INFO:root:This is an info message\n"
     ]
    }
   ],
   "source": [
    "import logging\n",
    "logging.warning('This is a warning message')\n",
    "# 아래와 같은 메시지가 콘솔에 출력됩니다\n",
    "# WARNING:root:This is a warning message\n",
    "\n",
    "logging.info('This is an info message')\n",
    "# 아무 것도 프린트 되지 않습니다"
   ]
  },
  {
   "cell_type": "markdown",
   "metadata": {},
   "source": [
    "WARNING 로그는 출력이 되었지만, INFO 로그는 아무것도 출력이 되지 않습니다.  \n",
    "이는 root logger의 기본 level이 WARNING 수준으로 설정되어 있어서, 해당 수준 이상의 로그만 처리되기 때문입니다.  \n",
    "Logger가 처리하는 로그의 레벨을 조정하는 방법은 아래와 같습니다."
   ]
  },
  {
   "cell_type": "code",
   "execution_count": 4,
   "metadata": {},
   "outputs": [
    {
     "name": "stderr",
     "output_type": "stream",
     "text": [
      "INFO:root:This is an info message\n"
     ]
    }
   ],
   "source": [
    "# Logger가 처리하는 로그의 레벨을 조정\n",
    "import logging\n",
    "logging.basicConfig(level=logging.INFO)\n",
    "logging.info('This is an info message')\n",
    "# 아래와 같은 메시지가 출력됩니다!\n",
    "# E:root:This is an info message\n"
   ]
  },
  {
   "cell_type": "code",
   "execution_count": 7,
   "metadata": {},
   "outputs": [],
   "source": [
    "\n",
    "# Logger가 처리하는 로그의 레벨을 조정\n",
    "import logging\n",
    "logging.basicConfig(level=logging.DEBUG)\n",
    "logging.debug('This is an info message')\n",
    "# 아래와 같은 메시지가 출력됩니다!\n",
    "# INFO:root:This is an info message"
   ]
  },
  {
   "cell_type": "code",
   "execution_count": 11,
   "metadata": {},
   "outputs": [
    {
     "ename": "AttributeError",
     "evalue": "module 'logging' has no attribute '_Level'",
     "output_type": "error",
     "traceback": [
      "\u001b[0;31m---------------------------------------------------------------------------\u001b[0m",
      "\u001b[0;31mAttributeError\u001b[0m                            Traceback (most recent call last)",
      "Cell \u001b[0;32mIn[11], line 1\u001b[0m\n\u001b[0;32m----> 1\u001b[0m \u001b[43mlogging\u001b[49m\u001b[38;5;241;43m.\u001b[39;49m\u001b[43m_Level\u001b[49m\n",
      "\u001b[0;31mAttributeError\u001b[0m: module 'logging' has no attribute '_Level'"
     ]
    }
   ],
   "source": []
  },
  {
   "cell_type": "code",
   "execution_count": null,
   "metadata": {},
   "outputs": [],
   "source": []
  },
  {
   "cell_type": "code",
   "execution_count": null,
   "metadata": {},
   "outputs": [],
   "source": []
  },
  {
   "cell_type": "code",
   "execution_count": null,
   "metadata": {},
   "outputs": [],
   "source": []
  },
  {
   "cell_type": "code",
   "execution_count": null,
   "metadata": {},
   "outputs": [],
   "source": []
  },
  {
   "cell_type": "code",
   "execution_count": null,
   "metadata": {},
   "outputs": [],
   "source": [
    "#!/usr/bin/env python3\n",
    "# pip install coloredlogs verboselogs\n",
    "\n",
    "import os\n",
    "import coloredlogs, logging, verboselogs\n",
    "\n",
    "#logger = logging.getLogger(__name__)\n",
    "logger = verboselogs.VerboseLogger(__name__)    # add logger.success\n",
    "\n",
    "log_path = 'train.log'\n",
    "\n",
    "def main():\n",
    "    # Write main code here\n",
    "    pass\n",
    "\n",
    "\n",
    "if __name__ == '__main__':\n",
    "    \"\"\"\n",
    "    Initialise with NOTSET level and null device, and add stream handler separately.\n",
    "    This way, the root logging level is NOTSET (log all), and we can customise each handler's behaviour.\n",
    "    If we set the level during the initialisation, it will affect to ALL streams, so the file stream cannot be more verbose (lower level) than the console stream.\n",
    "    \"\"\"\n",
    "    #logging.basicConfig(format='', level=logging.NOTSET, stream=open(os.devnull, 'w'))\n",
    "    coloredlogs.install(fmt='', level=logging.NOTSET, stream=open(os.devnull, 'w'))\n",
    "\n",
    "    # Different module different logging level\n",
    "    #logging.getLogger('slowfast.utils.checkpoint').setLevel(logging.WARNING)\n",
    "\n",
    "    console_handler = logging.StreamHandler()\n",
    "    console_handler.setLevel(logging.INFO)\n",
    "    console_format = coloredlogs.ColoredFormatter('%(name)s: %(lineno)4d - %(levelname)s - %(message)s')\n",
    "    console_handler.setFormatter(console_format)\n",
    "\n",
    "    f_handler = logging.FileHandler(log_path)\n",
    "    f_handler.setLevel(logging.DEBUG)\n",
    "    f_format = logging.Formatter('%(asctime)s - %(name)s: %(lineno)4d - %(levelname)s - %(message)s')\n",
    "    f_handler.setFormatter(f_format)\n",
    "\n",
    "    # Add handlers to the logger\n",
    "    root_logger = logging.getLogger()\n",
    "    root_logger.addHandler(console_handler)\n",
    "    root_logger.addHandler(f_handler)\n",
    "\n",
    "    try:\n",
    "        main()\n",
    "    except Exception:\n",
    "        logger.exception(\"Exception occurred\")"
   ]
  },
  {
   "cell_type": "code",
   "execution_count": null,
   "metadata": {},
   "outputs": [],
   "source": []
  },
  {
   "cell_type": "code",
   "execution_count": null,
   "metadata": {},
   "outputs": [],
   "source": []
  },
  {
   "cell_type": "code",
   "execution_count": null,
   "metadata": {},
   "outputs": [],
   "source": []
  },
  {
   "cell_type": "code",
   "execution_count": null,
   "metadata": {},
   "outputs": [],
   "source": []
  },
  {
   "cell_type": "code",
   "execution_count": null,
   "metadata": {},
   "outputs": [],
   "source": []
  },
  {
   "cell_type": "code",
   "execution_count": null,
   "metadata": {},
   "outputs": [],
   "source": []
  }
 ],
 "metadata": {
  "kernelspec": {
   "display_name": ".venv",
   "language": "python",
   "name": "python3"
  },
  "language_info": {
   "codemirror_mode": {
    "name": "ipython",
    "version": 3
   },
   "file_extension": ".py",
   "mimetype": "text/x-python",
   "name": "python",
   "nbconvert_exporter": "python",
   "pygments_lexer": "ipython3",
   "version": "3.11.9"
  }
 },
 "nbformat": 4,
 "nbformat_minor": 2
}
